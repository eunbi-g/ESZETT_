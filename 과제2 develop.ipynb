{
 "cells": [
  {
   "cell_type": "markdown",
   "metadata": {},
   "source": [
    "## 과제2  Daum 연관 검색어 수집, 저장, 시각화\n"
   ]
  },
  {
   "cell_type": "code",
   "execution_count": 54,
   "metadata": {},
   "outputs": [],
   "source": [
    "import requests\n",
    "import numpy as np\n",
    "import pandas as pd\n",
    "import time\n",
    "import re\n",
    "import selenium\n",
    "from selenium import webdriver as wd\n",
    "from selenium.webdriver import Chrome\n",
    "\n",
    "div = wd.Chrome('C:/Users/goeun/Desktop/Eunbi Go/BOAZ/BOAZ 시각화 13기 BASE/chromedriver.exe')"
   ]
  },
  {
   "cell_type": "code",
   "execution_count": 55,
   "metadata": {},
   "outputs": [],
   "source": [
    "div.get('http://www.daum.net')\n",
    "time.sleep(3)"
   ]
  },
  {
   "cell_type": "code",
   "execution_count": 56,
   "metadata": {},
   "outputs": [],
   "source": [
    "div.find_element_by_xpath('//*[@id=\"q\"]').send_keys('피부과')\n",
    "div.find_element_by_xpath('//*[@id=\"daumSearch\"]/fieldset/div/div/button[2]').click()"
   ]
  },
  {
   "cell_type": "code",
   "execution_count": 57,
   "metadata": {},
   "outputs": [
    {
     "data": {
      "text/plain": [
       "['//*[@id=\"recomm_lists_top\"]/span[1]/a',\n",
       " '//*[@id=\"recomm_lists_top\"]/span[2]/a',\n",
       " '//*[@id=\"recomm_lists_top\"]/span[3]/a',\n",
       " '//*[@id=\"recomm_lists_top\"]/span[4]/a',\n",
       " '//*[@id=\"recomm_lists_top\"]/span[5]/a',\n",
       " '//*[@id=\"recomm_lists_top\"]/span[6]/a',\n",
       " '//*[@id=\"recomm_lists_top\"]/span[7]/a',\n",
       " '//*[@id=\"recomm_lists_top\"]/span[8]/a',\n",
       " '//*[@id=\"recomm_lists_top\"]/span[9]/a',\n",
       " '//*[@id=\"recomm_lists_top\"]/span[10]/a',\n",
       " '//*[@id=\"recomm_lists_top\"]/span[11]/a',\n",
       " '//*[@id=\"recomm_lists_top\"]/span[12]/a',\n",
       " '//*[@id=\"recomm_lists_top\"]/span[13]/a',\n",
       " '//*[@id=\"recomm_lists_top\"]/span[14]/a',\n",
       " '//*[@id=\"recomm_lists_top\"]/span[15]/a']"
      ]
     },
     "execution_count": 57,
     "metadata": {},
     "output_type": "execute_result"
    }
   ],
   "source": [
    "# 다음 연관 검색어는 두 종류로 분류 되어 존재한다. '제안'과 '관련'\n",
    "# '제안' 연관 검색어\n",
    "xpath = []\n",
    "for i in range(1,16):\n",
    "    xpath.append('//*[@id=\"recomm_lists_top\"]/span[' +str(i)+ ']/a')\n",
    "xpath"
   ]
  },
  {
   "cell_type": "code",
   "execution_count": 58,
   "metadata": {},
   "outputs": [
    {
     "data": {
      "text/plain": [
       "['//*[@id=\"netizen_lists_top\"]/span[1]/a',\n",
       " '//*[@id=\"netizen_lists_top\"]/span[2]/a',\n",
       " '//*[@id=\"netizen_lists_top\"]/span[3]/a',\n",
       " '//*[@id=\"netizen_lists_top\"]/span[4]/a',\n",
       " '//*[@id=\"netizen_lists_top\"]/span[5]/a',\n",
       " '//*[@id=\"netizen_lists_top\"]/span[6]/a',\n",
       " '//*[@id=\"netizen_lists_top\"]/span[7]/a',\n",
       " '//*[@id=\"netizen_lists_top\"]/span[8]/a',\n",
       " '//*[@id=\"netizen_lists_top\"]/span[9]/a',\n",
       " '//*[@id=\"netizen_lists_top\"]/span[10]/a',\n",
       " '//*[@id=\"netizen_lists_top\"]/span[11]/a',\n",
       " '//*[@id=\"netizen_lists_top\"]/span[12]/a',\n",
       " '//*[@id=\"netizen_lists_top\"]/span[13]/a',\n",
       " '//*[@id=\"netizen_lists_top\"]/span[14]/a',\n",
       " '//*[@id=\"netizen_lists_top\"]/span[15]/a']"
      ]
     },
     "execution_count": 58,
     "metadata": {},
     "output_type": "execute_result"
    }
   ],
   "source": [
    "# '관련' 연관 검색어\n",
    "xpath2 = []\n",
    "for i in range(1,16):\n",
    "    xpath2.append('//*[@id=\"netizen_lists_top\"]/span[' +str(i)+ ']/a')\n",
    "xpath2"
   ]
  },
  {
   "cell_type": "code",
   "execution_count": 59,
   "metadata": {},
   "outputs": [
    {
     "data": {
      "text/plain": [
       "['대구 피부과',\n",
       " '강남 피부과',\n",
       " '여드름 피부과',\n",
       " '피부과 전문의',\n",
       " '중랑구 피부과',\n",
       " '피부과 병원',\n",
       " '가산동 피부과',\n",
       " '마산 피부과',\n",
       " '광주 피부과',\n",
       " '피부과 잘하는곳',\n",
       " '울산 피부과',\n",
       " '춘천 피부과',\n",
       " '여의도 피부과',\n",
       " '구로동 피부과',\n",
       " '피부가려움증의 원인']"
      ]
     },
     "execution_count": 59,
     "metadata": {},
     "output_type": "execute_result"
    }
   ],
   "source": [
    "# 피부과 검색 시 나오는 연관검색어 수집\n",
    "search = []\n",
    "div.find_element_by_xpath('//*[@id=\"netizen_more_btn_top\"]').click()\n",
    "time.sleep(2)\n",
    "for i in range(len(xpath)):\n",
    "    search.append(div.find_element_by_xpath(xpath[i]).text)\n",
    "search"
   ]
  },
  {
   "cell_type": "code",
   "execution_count": 61,
   "metadata": {},
   "outputs": [
    {
     "data": {
      "text/html": [
       "<div>\n",
       "<style scoped>\n",
       "    .dataframe tbody tr th:only-of-type {\n",
       "        vertical-align: middle;\n",
       "    }\n",
       "\n",
       "    .dataframe tbody tr th {\n",
       "        vertical-align: top;\n",
       "    }\n",
       "\n",
       "    .dataframe thead th {\n",
       "        text-align: right;\n",
       "    }\n",
       "</style>\n",
       "<table border=\"1\" class=\"dataframe\">\n",
       "  <thead>\n",
       "    <tr style=\"text-align: right;\">\n",
       "      <th></th>\n",
       "      <th>source</th>\n",
       "      <th>target</th>\n",
       "    </tr>\n",
       "  </thead>\n",
       "  <tbody>\n",
       "  </tbody>\n",
       "</table>\n",
       "</div>"
      ],
      "text/plain": [
       "Empty DataFrame\n",
       "Columns: [source, target]\n",
       "Index: []"
      ]
     },
     "execution_count": 61,
     "metadata": {},
     "output_type": "execute_result"
    }
   ],
   "source": [
    "link = pd.DataFrame({'source':[],'target':[]})\n",
    "link"
   ]
  },
  {
   "cell_type": "code",
   "execution_count": 63,
   "metadata": {},
   "outputs": [
    {
     "data": {
      "text/html": [
       "<div>\n",
       "<style scoped>\n",
       "    .dataframe tbody tr th:only-of-type {\n",
       "        vertical-align: middle;\n",
       "    }\n",
       "\n",
       "    .dataframe tbody tr th {\n",
       "        vertical-align: top;\n",
       "    }\n",
       "\n",
       "    .dataframe thead th {\n",
       "        text-align: right;\n",
       "    }\n",
       "</style>\n",
       "<table border=\"1\" class=\"dataframe\">\n",
       "  <thead>\n",
       "    <tr style=\"text-align: right;\">\n",
       "      <th></th>\n",
       "      <th>source</th>\n",
       "      <th>target</th>\n",
       "    </tr>\n",
       "  </thead>\n",
       "  <tbody>\n",
       "    <tr>\n",
       "      <th>0</th>\n",
       "      <td>대구 피부과</td>\n",
       "      <td>대구 피부과 추천</td>\n",
       "    </tr>\n",
       "    <tr>\n",
       "      <th>1</th>\n",
       "      <td>대구 피부과</td>\n",
       "      <td>대구 성형외과</td>\n",
       "    </tr>\n",
       "    <tr>\n",
       "      <th>2</th>\n",
       "      <td>대구 피부과</td>\n",
       "      <td>대구 피부과 유명한곳</td>\n",
       "    </tr>\n",
       "    <tr>\n",
       "      <th>3</th>\n",
       "      <td>대구 피부과</td>\n",
       "      <td>부산 피부과</td>\n",
       "    </tr>\n",
       "    <tr>\n",
       "      <th>4</th>\n",
       "      <td>대구 피부과</td>\n",
       "      <td>수성구 피부과</td>\n",
       "    </tr>\n",
       "    <tr>\n",
       "      <th>5</th>\n",
       "      <td>대구 피부과</td>\n",
       "      <td>대구 수성구 피부과</td>\n",
       "    </tr>\n",
       "    <tr>\n",
       "      <th>6</th>\n",
       "      <td>대구 피부과</td>\n",
       "      <td>대구 피부과 잘하는곳</td>\n",
       "    </tr>\n",
       "    <tr>\n",
       "      <th>7</th>\n",
       "      <td>대구 피부과</td>\n",
       "      <td>대구 동성로 피부과</td>\n",
       "    </tr>\n",
       "    <tr>\n",
       "      <th>8</th>\n",
       "      <td>대구 피부과</td>\n",
       "      <td>대구 중구 피부과</td>\n",
       "    </tr>\n",
       "    <tr>\n",
       "      <th>9</th>\n",
       "      <td>대구 피부과</td>\n",
       "      <td>대구 로제피부과</td>\n",
       "    </tr>\n",
       "    <tr>\n",
       "      <th>10</th>\n",
       "      <td>대구 피부과</td>\n",
       "      <td>대구 여드름</td>\n",
       "    </tr>\n",
       "    <tr>\n",
       "      <th>11</th>\n",
       "      <td>대구 피부과</td>\n",
       "      <td>달서구 피부과</td>\n",
       "    </tr>\n",
       "    <tr>\n",
       "      <th>12</th>\n",
       "      <td>대구 피부과</td>\n",
       "      <td>대구 동구 피부과</td>\n",
       "    </tr>\n",
       "    <tr>\n",
       "      <th>13</th>\n",
       "      <td>대구 피부과</td>\n",
       "      <td>대구 사마귀 피부과</td>\n",
       "    </tr>\n",
       "    <tr>\n",
       "      <th>14</th>\n",
       "      <td>대구 피부과</td>\n",
       "      <td>대구 달서구 피부과</td>\n",
       "    </tr>\n",
       "    <tr>\n",
       "      <th>0</th>\n",
       "      <td>강남 피부과</td>\n",
       "      <td>강남 성형외과</td>\n",
       "    </tr>\n",
       "    <tr>\n",
       "      <th>1</th>\n",
       "      <td>강남 피부과</td>\n",
       "      <td>강남역 피부과</td>\n",
       "    </tr>\n",
       "    <tr>\n",
       "      <th>2</th>\n",
       "      <td>강남 피부과</td>\n",
       "      <td>분당 피부과</td>\n",
       "    </tr>\n",
       "    <tr>\n",
       "      <th>3</th>\n",
       "      <td>강남 피부과</td>\n",
       "      <td>압구정 피부과</td>\n",
       "    </tr>\n",
       "    <tr>\n",
       "      <th>4</th>\n",
       "      <td>강남 피부과</td>\n",
       "      <td>강남 피부과 추천</td>\n",
       "    </tr>\n",
       "    <tr>\n",
       "      <th>5</th>\n",
       "      <td>강남 피부과</td>\n",
       "      <td>신사동 피부과</td>\n",
       "    </tr>\n",
       "    <tr>\n",
       "      <th>6</th>\n",
       "      <td>강남 피부과</td>\n",
       "      <td>건대 피부과</td>\n",
       "    </tr>\n",
       "    <tr>\n",
       "      <th>7</th>\n",
       "      <td>강남 피부과</td>\n",
       "      <td>메이퓨어</td>\n",
       "    </tr>\n",
       "    <tr>\n",
       "      <th>8</th>\n",
       "      <td>강남 피부과</td>\n",
       "      <td>쁨클리닉</td>\n",
       "    </tr>\n",
       "    <tr>\n",
       "      <th>9</th>\n",
       "      <td>강남 피부과</td>\n",
       "      <td>역삼역 피부과</td>\n",
       "    </tr>\n",
       "    <tr>\n",
       "      <th>10</th>\n",
       "      <td>강남 피부과</td>\n",
       "      <td>남양주 피부과</td>\n",
       "    </tr>\n",
       "    <tr>\n",
       "      <th>11</th>\n",
       "      <td>강남 피부과</td>\n",
       "      <td>강남 피부과 의원</td>\n",
       "    </tr>\n",
       "    <tr>\n",
       "      <th>12</th>\n",
       "      <td>강남 피부과</td>\n",
       "      <td>아름다운 피부과</td>\n",
       "    </tr>\n",
       "    <tr>\n",
       "      <th>13</th>\n",
       "      <td>강남 피부과</td>\n",
       "      <td>이지함 피부과</td>\n",
       "    </tr>\n",
       "    <tr>\n",
       "      <th>14</th>\n",
       "      <td>강남 피부과</td>\n",
       "      <td>강남여드름</td>\n",
       "    </tr>\n",
       "    <tr>\n",
       "      <th>...</th>\n",
       "      <td>...</td>\n",
       "      <td>...</td>\n",
       "    </tr>\n",
       "    <tr>\n",
       "      <th>5</th>\n",
       "      <td>여의도 피부과</td>\n",
       "      <td>여의도 차앤박 피부과</td>\n",
       "    </tr>\n",
       "    <tr>\n",
       "      <th>6</th>\n",
       "      <td>여의도 피부과</td>\n",
       "      <td>여의도동 피부과</td>\n",
       "    </tr>\n",
       "    <tr>\n",
       "      <th>7</th>\n",
       "      <td>여의도 피부과</td>\n",
       "      <td>나의 미래 피부과</td>\n",
       "    </tr>\n",
       "    <tr>\n",
       "      <th>8</th>\n",
       "      <td>여의도 피부과</td>\n",
       "      <td>여의도 로하스 피부과</td>\n",
       "    </tr>\n",
       "    <tr>\n",
       "      <th>9</th>\n",
       "      <td>여의도 피부과</td>\n",
       "      <td>국회의사당역 피부과</td>\n",
       "    </tr>\n",
       "    <tr>\n",
       "      <th>10</th>\n",
       "      <td>여의도 피부과</td>\n",
       "      <td>화안 피부과</td>\n",
       "    </tr>\n",
       "    <tr>\n",
       "      <th>11</th>\n",
       "      <td>여의도 피부과</td>\n",
       "      <td>천안 피부과</td>\n",
       "    </tr>\n",
       "    <tr>\n",
       "      <th>12</th>\n",
       "      <td>여의도 피부과</td>\n",
       "      <td>마포 피부과</td>\n",
       "    </tr>\n",
       "    <tr>\n",
       "      <th>13</th>\n",
       "      <td>여의도 피부과</td>\n",
       "      <td>평택 피부과</td>\n",
       "    </tr>\n",
       "    <tr>\n",
       "      <th>14</th>\n",
       "      <td>여의도 피부과</td>\n",
       "      <td>목동 피부과</td>\n",
       "    </tr>\n",
       "    <tr>\n",
       "      <th>0</th>\n",
       "      <td>구로동 피부과</td>\n",
       "      <td>구로 슈퍼스타 피부과</td>\n",
       "    </tr>\n",
       "    <tr>\n",
       "      <th>1</th>\n",
       "      <td>구로동 피부과</td>\n",
       "      <td>구로디지털단지 피부과</td>\n",
       "    </tr>\n",
       "    <tr>\n",
       "      <th>2</th>\n",
       "      <td>구로동 피부과</td>\n",
       "      <td>구로디지털 피부과</td>\n",
       "    </tr>\n",
       "    <tr>\n",
       "      <th>3</th>\n",
       "      <td>구로동 피부과</td>\n",
       "      <td>구로 고대병원</td>\n",
       "    </tr>\n",
       "    <tr>\n",
       "      <th>4</th>\n",
       "      <td>구로동 피부과</td>\n",
       "      <td>구로구 구로동 피부과</td>\n",
       "    </tr>\n",
       "    <tr>\n",
       "      <th>0</th>\n",
       "      <td>피부가려움증의 원인</td>\n",
       "      <td>긁으면 피부가올라오는 현상</td>\n",
       "    </tr>\n",
       "    <tr>\n",
       "      <th>1</th>\n",
       "      <td>피부가려움증의 원인</td>\n",
       "      <td>간이 안좋으면 나타나는 증상</td>\n",
       "    </tr>\n",
       "    <tr>\n",
       "      <th>2</th>\n",
       "      <td>피부가려움증의 원인</td>\n",
       "      <td>갱년기 피부 가려움증</td>\n",
       "    </tr>\n",
       "    <tr>\n",
       "      <th>3</th>\n",
       "      <td>피부가려움증의 원인</td>\n",
       "      <td>피부 가려움증 민간요법</td>\n",
       "    </tr>\n",
       "    <tr>\n",
       "      <th>4</th>\n",
       "      <td>피부가려움증의 원인</td>\n",
       "      <td>저녁에 피부가려움증의 원인</td>\n",
       "    </tr>\n",
       "    <tr>\n",
       "      <th>5</th>\n",
       "      <td>피부가려움증의 원인</td>\n",
       "      <td>얼굴 피부가려움증의 원인</td>\n",
       "    </tr>\n",
       "    <tr>\n",
       "      <th>6</th>\n",
       "      <td>피부가려움증의 원인</td>\n",
       "      <td>피부 붉은반점</td>\n",
       "    </tr>\n",
       "    <tr>\n",
       "      <th>7</th>\n",
       "      <td>피부가려움증의 원인</td>\n",
       "      <td>피부 가려움증 두드러기</td>\n",
       "    </tr>\n",
       "    <tr>\n",
       "      <th>8</th>\n",
       "      <td>피부가려움증의 원인</td>\n",
       "      <td>피부암 증상사진</td>\n",
       "    </tr>\n",
       "    <tr>\n",
       "      <th>9</th>\n",
       "      <td>피부가려움증의 원인</td>\n",
       "      <td>피부 가려움증 치료</td>\n",
       "    </tr>\n",
       "    <tr>\n",
       "      <th>10</th>\n",
       "      <td>피부가려움증의 원인</td>\n",
       "      <td>피부암 초기증상</td>\n",
       "    </tr>\n",
       "    <tr>\n",
       "      <th>11</th>\n",
       "      <td>피부가려움증의 원인</td>\n",
       "      <td>피부질환 종류</td>\n",
       "    </tr>\n",
       "    <tr>\n",
       "      <th>12</th>\n",
       "      <td>피부가려움증의 원인</td>\n",
       "      <td>아토피 가려움증 해소방법</td>\n",
       "    </tr>\n",
       "    <tr>\n",
       "      <th>13</th>\n",
       "      <td>피부가려움증의 원인</td>\n",
       "      <td>피부 묘기증</td>\n",
       "    </tr>\n",
       "    <tr>\n",
       "      <th>14</th>\n",
       "      <td>피부가려움증의 원인</td>\n",
       "      <td>피부 발진 종류</td>\n",
       "    </tr>\n",
       "  </tbody>\n",
       "</table>\n",
       "<p>168 rows × 2 columns</p>\n",
       "</div>"
      ],
      "text/plain": [
       "        source           target\n",
       "0       대구 피부과        대구 피부과 추천\n",
       "1       대구 피부과          대구 성형외과\n",
       "2       대구 피부과      대구 피부과 유명한곳\n",
       "3       대구 피부과           부산 피부과\n",
       "4       대구 피부과          수성구 피부과\n",
       "5       대구 피부과       대구 수성구 피부과\n",
       "6       대구 피부과      대구 피부과 잘하는곳\n",
       "7       대구 피부과       대구 동성로 피부과\n",
       "8       대구 피부과        대구 중구 피부과\n",
       "9       대구 피부과         대구 로제피부과\n",
       "10      대구 피부과           대구 여드름\n",
       "11      대구 피부과          달서구 피부과\n",
       "12      대구 피부과        대구 동구 피부과\n",
       "13      대구 피부과       대구 사마귀 피부과\n",
       "14      대구 피부과       대구 달서구 피부과\n",
       "0       강남 피부과          강남 성형외과\n",
       "1       강남 피부과          강남역 피부과\n",
       "2       강남 피부과           분당 피부과\n",
       "3       강남 피부과          압구정 피부과\n",
       "4       강남 피부과        강남 피부과 추천\n",
       "5       강남 피부과          신사동 피부과\n",
       "6       강남 피부과           건대 피부과\n",
       "7       강남 피부과             메이퓨어\n",
       "8       강남 피부과             쁨클리닉\n",
       "9       강남 피부과          역삼역 피부과\n",
       "10      강남 피부과          남양주 피부과\n",
       "11      강남 피부과        강남 피부과 의원\n",
       "12      강남 피부과         아름다운 피부과\n",
       "13      강남 피부과          이지함 피부과\n",
       "14      강남 피부과            강남여드름\n",
       "..         ...              ...\n",
       "5      여의도 피부과      여의도 차앤박 피부과\n",
       "6      여의도 피부과         여의도동 피부과\n",
       "7      여의도 피부과        나의 미래 피부과\n",
       "8      여의도 피부과      여의도 로하스 피부과\n",
       "9      여의도 피부과       국회의사당역 피부과\n",
       "10     여의도 피부과           화안 피부과\n",
       "11     여의도 피부과           천안 피부과\n",
       "12     여의도 피부과           마포 피부과\n",
       "13     여의도 피부과           평택 피부과\n",
       "14     여의도 피부과           목동 피부과\n",
       "0      구로동 피부과      구로 슈퍼스타 피부과\n",
       "1      구로동 피부과      구로디지털단지 피부과\n",
       "2      구로동 피부과        구로디지털 피부과\n",
       "3      구로동 피부과          구로 고대병원\n",
       "4      구로동 피부과      구로구 구로동 피부과\n",
       "0   피부가려움증의 원인   긁으면 피부가올라오는 현상\n",
       "1   피부가려움증의 원인  간이 안좋으면 나타나는 증상\n",
       "2   피부가려움증의 원인      갱년기 피부 가려움증\n",
       "3   피부가려움증의 원인     피부 가려움증 민간요법\n",
       "4   피부가려움증의 원인   저녁에 피부가려움증의 원인\n",
       "5   피부가려움증의 원인    얼굴 피부가려움증의 원인\n",
       "6   피부가려움증의 원인          피부 붉은반점\n",
       "7   피부가려움증의 원인     피부 가려움증 두드러기\n",
       "8   피부가려움증의 원인         피부암 증상사진\n",
       "9   피부가려움증의 원인       피부 가려움증 치료\n",
       "10  피부가려움증의 원인         피부암 초기증상\n",
       "11  피부가려움증의 원인          피부질환 종류\n",
       "12  피부가려움증의 원인    아토피 가려움증 해소방법\n",
       "13  피부가려움증의 원인           피부 묘기증\n",
       "14  피부가려움증의 원인         피부 발진 종류\n",
       "\n",
       "[168 rows x 2 columns]"
      ]
     },
     "execution_count": 63,
     "metadata": {},
     "output_type": "execute_result"
    }
   ],
   "source": [
    "\n",
    "for i in range(len(search)):    \n",
    "    \n",
    "    target = []\n",
    "    div.find_element_by_xpath('//*[@id=\"q\"]').clear()\n",
    "    div.find_element_by_xpath('//*[@id=\"q\"]').send_keys(search[i])\n",
    "    div.find_element_by_xpath('//*[@id=\"daumBtnSearch\"]').click()\n",
    "    time.sleep(3)\n",
    "    try:\n",
    "        div.find_element_by_xpath('//*[@id=\"recomm_lists_top\"]/h2').text\n",
    "        try:\n",
    "            div.find_element_by_xpath('//*[@id=\"netizen_more_btn_top\"]').click()\n",
    "        except :\n",
    "            next\n",
    "        time.sleep(1)\n",
    "        \n",
    "        for j in range(len(xpath)):\n",
    "            try :\n",
    "                target.append(div.find_element_by_xpath(xpath[j]).text)\n",
    "            except :\n",
    "                break\n",
    "        link2 = pd.DataFrame({'source':search[i],'target':target})\n",
    "    except:\n",
    "        \n",
    "        try :\n",
    "            div.find_element_by_xpath('//*[@id=\"netizen_more_btn_top\"]').click()\n",
    "        except:\n",
    "            next\n",
    "        time.sleep(1)\n",
    "        \n",
    "        for j in range(len(xpath2)):\n",
    "            try :\n",
    "                target.append(div.find_element_by_xpath(xpath2[j]).text)\n",
    "            except :\n",
    "                break\n",
    "        link2 = pd.DataFrame({'source':search[i],'target':target})\n",
    "    link = pd.concat([link,link2])\n",
    "link"
   ]
  },
  {
   "cell_type": "code",
   "execution_count": 69,
   "metadata": {},
   "outputs": [],
   "source": [
    "link.to_csv('daum 연관 검색어.csv',index=False,encoding='cp949')"
   ]
  },
  {
   "cell_type": "code",
   "execution_count": null,
   "metadata": {},
   "outputs": [],
   "source": []
  },
  {
   "cell_type": "code",
   "execution_count": null,
   "metadata": {},
   "outputs": [],
   "source": []
  },
  {
   "cell_type": "code",
   "execution_count": null,
   "metadata": {},
   "outputs": [],
   "source": [
    "%matplotlib inline"
   ]
  },
  {
   "cell_type": "code",
   "execution_count": 141,
   "metadata": {},
   "outputs": [],
   "source": [
    "import networkx as nx\n",
    "G = nx.Graph()"
   ]
  },
  {
   "cell_type": "code",
   "execution_count": 142,
   "metadata": {},
   "outputs": [],
   "source": [
    "edges=[('apple','banana'),('apple','mango'),('apple','kiwi')]\n",
    "G.add_edges_from(edges)"
   ]
  },
  {
   "cell_type": "code",
   "execution_count": 143,
   "metadata": {},
   "outputs": [
    {
     "data": {
      "text/plain": [
       "EdgeView([('apple', 'banana'), ('apple', 'mango'), ('apple', 'kiwi')])"
      ]
     },
     "execution_count": 143,
     "metadata": {},
     "output_type": "execute_result"
    }
   ],
   "source": [
    "G.edges()"
   ]
  },
  {
   "cell_type": "code",
   "execution_count": 144,
   "metadata": {},
   "outputs": [
    {
     "data": {
      "text/plain": [
       "DegreeView({'apple': 3, 'banana': 1, 'mango': 1, 'kiwi': 1})"
      ]
     },
     "execution_count": 144,
     "metadata": {},
     "output_type": "execute_result"
    }
   ],
   "source": [
    "G.degree()"
   ]
  },
  {
   "cell_type": "code",
   "execution_count": 128,
   "metadata": {},
   "outputs": [
    {
     "data": {
      "image/png": "[encoded data removed]",
      "text/plain": [
       "<Figure size 432x288 with 1 Axes>"
      ]
     },
     "metadata": {},
     "output_type": "display_data"
    }
   ],
   "source": [
    "nx.draw(G,with_labels=True)"
   ]
  },
  {
   "cell_type": "code",
   "execution_count": null,
   "metadata": {},
   "outputs": [],
   "source": []
  },
  {
   "cell_type": "code",
   "execution_count": 146,
   "metadata": {},
   "outputs": [],
   "source": [
    "G = nx.Graph()\n",
    "\n",
    "edges=[]\n",
    "for i in range(len(link)):\n",
    "    edges.append((str(link.iloc[i,0]),str(link.iloc[i,1])))\n",
    "\n",
    "G.add_edges_from(edges)"
   ]
  },
  {
   "cell_type": "code",
   "execution_count": 147,
   "metadata": {},
   "outputs": [
    {
     "data": {
      "text/plain": [
       "EdgeView([('대구 피부과', '대구 피부과 추천'), ('대구 피부과', '대구 성형외과'), ('대구 피부과', '대구 피부과 유명한곳'), ('대구 피부과', '부산 피부과'), ('대구 피부과', '수성구 피부과'), ('대구 피부과', '대구 수성구 피부과'), ('대구 피부과', '대구 피부과 잘하는곳'), ('대구 피부과', '대구 동성로 피부과'), ('대구 피부과', '대구 중구 피부과'), ('대구 피부과', '대구 로제피부과'), ('대구 피부과', '대구 여드름'), ('대구 피부과', '달서구 피부과'), ('대구 피부과', '대구 동구 피부과'), ('대구 피부과', '대구 사마귀 피부과'), ('대구 피부과', '대구 달서구 피부과'), ('강남 피부과', '강남 성형외과'), ('강남 피부과', '강남역 피부과'), ('강남 피부과', '분당 피부과'), ('강남 피부과', '압구정 피부과'), ('강남 피부과', '강남 피부과 추천'), ('강남 피부과', '신사동 피부과'), ('강남 피부과', '건대 피부과'), ('강남 피부과', '메이퓨어'), ('강남 피부과', '쁨클리닉'), ('강남 피부과', '역삼역 피부과'), ('강남 피부과', '남양주 피부과'), ('강남 피부과', '강남 피부과 의원'), ('강남 피부과', '아름다운 피부과'), ('강남 피부과', '이지함 피부과'), ('강남 피부과', '강남여드름'), ('강남여드름', '여드름 피부과'), ('여드름 피부과', '임이석테마피부과'), ('여드름 피부과', '여드름 흉터 레이저'), ('여드름 피부과', '좁쌀여드름 없애는법'), ('여드름 피부과', '지루성 피부염'), ('여드름 피부과', '청소년 여드름 피부과'), ('여드름 피부과', '화농성 여드름'), ('여드름 피부과', '여드름 치료'), ('여드름 피부과', '과다 피지분비 치료법'), ('여드름 피부과', '기미'), ('여드름 피부과', '여드름 피부과 한의원'), ('여드름 피부과', '피부 가려움증'), ('여드름 피부과', '여드름 약'), ('피부과 전문의', '클린업 피부과'), ('피부과 전문의', '창원 피부과 전문의'), ('피부과 전문의', '피부과 전문의 검색'), ('피부과 전문의', '강남 피부과 전문의'), ('피부과 전문의', '피부과 명의'), ('피부과 전문의', '부산 피부과 전문의'), ('피부과 전문의', '대한피부과 의사회'), ('피부과 전문의', '피부과 의원'), ('피부과 전문의', '인천 피부과 전문의'), ('피부과 전문의', '대구 피부과 전문의'), ('피부과 전문의', '연산동 피부과 전문의'), ('피부과 전문의', '피부과 전문의 연봉'), ('피부과 전문의', '계피부과'), ('피부과 전문의', '대전 피부과 전문의'), ('피부과 전문의', '일산 피부과 전문의'), ('피부과 의원', '피부과 병원'), ('중랑구 피부과', '중랑구 맑은 피부과'), ('중랑구 피부과', '중랑구 피부과 추천'), ('중랑구 피부과', '중화동 피부과'), ('중랑구 피부과', '사가정 참고운피부과'), ('중랑구 피부과', '은행사거리 피부과'), ('피부과 병원', '대상포진 병원'), ('피부과 병원', '마포 피부과 병원'), ('피부과 병원', '피부질환사진'), ('피부과 병원', '수피부과'), ('피부과 병원', '수지구 피부과 병원'), ('피부과 병원', '마산 피부과 병원'), ('피부과 병원', '부산 피부과 병원'), ('가산동 피부과', '가산역 피부과'), ('가산동 피부과', '가산연합의원'), ('가산동 피부과', '가산 디지털 피부과'), ('가산동 피부과', '독산동 피부과'), ('가산동 피부과', '철산동 피부과'), ('마산 피부과', '마산 복지피부과'), ('마산 피부과', '마산 와이즈미 피부과'), ('마산 피부과', '마산 합성동 피부과'), ('마산 피부과', '마산 ds피부과'), ('마산 피부과', '창원 피부과'), ('광주 피부과', '광주광역시 동구 피부과'), ('광주 피부과', '광주 맑은피부과'), ('광주 피부과', '광주 피부과 추천'), ('광주 피부과', '광주 피부과 잘하는곳'), ('광주 피부과', '광주 북구 피부과'), ('광주 피부과', '광주 피부과 야간진료'), ('광주 피부과', '광주 남구 피부과'), ('광주 피부과', '상무지구 피부과'), ('광주 피부과', '전남 광주 피부과'), ('광주 피부과', '광주 피부과 전문의'), ('광주 피부과', '광주 상무지구 피부과'), ('광주 피부과', '광주 미라클피부과'), ('광주 피부과', '광주광역시 피부과'), ('광주 피부과', '광주 성형외과'), ('광주 피부과', '경기광주 피부과'), ('피부과 잘하는곳', '서울 피부과 잘하는곳'), ('피부과 잘하는곳', '의정부 피부과 잘하는곳'), ('피부과 잘하는곳', '쁘띠성형 잘하는곳'), ('피부과 잘하는곳', '필러 잘하는곳'), ('피부과 잘하는곳', '강남 성형외과 유명한곳'), ('피부과 잘하는곳', '눈썹문신 잘하는곳'), ('피부과 잘하는곳', '피부과 레이저시술비용'), ('울산 피부과', '울산 피부과 잘하는곳'), ('울산 피부과', '울산 남구 피부과'), ('울산 피부과', '울산 라엘라 피부과'), ('울산 피부과', '울산 구영리 피부과'), ('울산 피부과', '울산 화이트듀피부과'), ('울산 피부과', '울산 제스필'), ('울산 피부과', '울산대학병원'), ('울산 피부과', '울산 북구 피부과'), ('울산 피부과', '울산 피부과 라엘라의원'), ('울산 피부과', '울산 채영수피부과'), ('울산 피부과', '울산 삼산 피부과'), ('울산 피부과', '울산 서울피부과'), ('울산 피부과', '울산 헤나 염색'), ('울산 피부과', '피부과 탈모치료 비용'), ('울산 피부과', '울산 피부과 전문의'), ('춘천 피부과', '춘천 퇴계동 피부과'), ('춘천 피부과', '춘천 피부과 잘하는곳'), ('춘천 피부과', '춘천 석사동 피부과'), ('춘천 피부과', '춘천 주피부과'), ('춘천 피부과', '춘천 점빼는 곳'), ('춘천 피부과', '춘천 피부과 추천'), ('춘천 피부과', '춘천 파티마피부과'), ('춘천 피부과', '춘천 아름다운피부과'), ('춘천 피부과', '춘천 연세주피부과'), ('춘천 피부과', '춘천 피부사랑피부과'), ('춘천 피부과', '춘천 포인트피부과'), ('춘천 피부과', '춘천 성형외과'), ('춘천 피부과', '춘천 주니스의원'), ('춘천 피부과', '춘천 청담엠클리닉'), ('춘천 피부과', '춘천 피부과 의원'), ('여의도 피부과', '여의도 화안피부과'), ('여의도 피부과', '여의도 피부과 추천'), ('여의도 피부과', '여의도역 근처 피부과'), ('여의도 피부과', '여의도 용피부과'), ('여의도 피부과', '영등포 피부과'), ('여의도 피부과', '여의도 차앤박 피부과'), ('여의도 피부과', '여의도동 피부과'), ('여의도 피부과', '나의 미래 피부과'), ('여의도 피부과', '여의도 로하스 피부과'), ('여의도 피부과', '국회의사당역 피부과'), ('여의도 피부과', '화안 피부과'), ('여의도 피부과', '천안 피부과'), ('여의도 피부과', '마포 피부과'), ('여의도 피부과', '평택 피부과'), ('여의도 피부과', '목동 피부과'), ('구로동 피부과', '구로 슈퍼스타 피부과'), ('구로동 피부과', '구로디지털단지 피부과'), ('구로동 피부과', '구로디지털 피부과'), ('구로동 피부과', '구로 고대병원'), ('구로동 피부과', '구로구 구로동 피부과'), ('피부가려움증의 원인', '긁으면 피부가올라오는 현상'), ('피부가려움증의 원인', '간이 안좋으면 나타나는 증상'), ('피부가려움증의 원인', '갱년기 피부 가려움증'), ('피부가려움증의 원인', '피부 가려움증 민간요법'), ('피부가려움증의 원인', '저녁에 피부가려움증의 원인'), ('피부가려움증의 원인', '얼굴 피부가려움증의 원인'), ('피부가려움증의 원인', '피부 붉은반점'), ('피부가려움증의 원인', '피부 가려움증 두드러기'), ('피부가려움증의 원인', '피부암 증상사진'), ('피부가려움증의 원인', '피부 가려움증 치료'), ('피부가려움증의 원인', '피부암 초기증상'), ('피부가려움증의 원인', '피부질환 종류'), ('피부가려움증의 원인', '아토피 가려움증 해소방법'), ('피부가려움증의 원인', '피부 묘기증'), ('피부가려움증의 원인', '피부 발진 종류')])"
      ]
     },
     "execution_count": 147,
     "metadata": {},
     "output_type": "execute_result"
    }
   ],
   "source": [
    "G.edges()"
   ]
  },
  {
   "cell_type": "code",
   "execution_count": 148,
   "metadata": {},
   "outputs": [
    {
     "data": {
      "text/plain": [
       "DegreeView({'대구 피부과': 15, '대구 피부과 추천': 1, '대구 성형외과': 1, '대구 피부과 유명한곳': 1, '부산 피부과': 1, '수성구 피부과': 1, '대구 수성구 피부과': 1, '대구 피부과 잘하는곳': 1, '대구 동성로 피부과': 1, '대구 중구 피부과': 1, '대구 로제피부과': 1, '대구 여드름': 1, '달서구 피부과': 1, '대구 동구 피부과': 1, '대구 사마귀 피부과': 1, '대구 달서구 피부과': 1, '강남 피부과': 15, '강남 성형외과': 1, '강남역 피부과': 1, '분당 피부과': 1, '압구정 피부과': 1, '강남 피부과 추천': 1, '신사동 피부과': 1, '건대 피부과': 1, '메이퓨어': 1, '쁨클리닉': 1, '역삼역 피부과': 1, '남양주 피부과': 1, '강남 피부과 의원': 1, '아름다운 피부과': 1, '이지함 피부과': 1, '강남여드름': 2, '여드름 피부과': 13, '임이석테마피부과': 1, '여드름 흉터 레이저': 1, '좁쌀여드름 없애는법': 1, '지루성 피부염': 1, '청소년 여드름 피부과': 1, '화농성 여드름': 1, '여드름 치료': 1, '과다 피지분비 치료법': 1, '기미': 1, '여드름 피부과 한의원': 1, '피부 가려움증': 1, '여드름 약': 1, '피부과 전문의': 15, '클린업 피부과': 1, '창원 피부과 전문의': 1, '피부과 전문의 검색': 1, '강남 피부과 전문의': 1, '피부과 명의': 1, '부산 피부과 전문의': 1, '대한피부과 의사회': 1, '피부과 의원': 2, '인천 피부과 전문의': 1, '대구 피부과 전문의': 1, '연산동 피부과 전문의': 1, '피부과 전문의 연봉': 1, '계피부과': 1, '대전 피부과 전문의': 1, '일산 피부과 전문의': 1, '중랑구 피부과': 5, '중랑구 맑은 피부과': 1, '중랑구 피부과 추천': 1, '중화동 피부과': 1, '사가정 참고운피부과': 1, '은행사거리 피부과': 1, '피부과 병원': 8, '대상포진 병원': 1, '마포 피부과 병원': 1, '피부질환사진': 1, '수피부과': 1, '수지구 피부과 병원': 1, '마산 피부과 병원': 1, '부산 피부과 병원': 1, '가산동 피부과': 5, '가산역 피부과': 1, '가산연합의원': 1, '가산 디지털 피부과': 1, '독산동 피부과': 1, '철산동 피부과': 1, '마산 피부과': 5, '마산 복지피부과': 1, '마산 와이즈미 피부과': 1, '마산 합성동 피부과': 1, '마산 ds피부과': 1, '창원 피부과': 1, '광주 피부과': 15, '광주광역시 동구 피부과': 1, '광주 맑은피부과': 1, '광주 피부과 추천': 1, '광주 피부과 잘하는곳': 1, '광주 북구 피부과': 1, '광주 피부과 야간진료': 1, '광주 남구 피부과': 1, '상무지구 피부과': 1, '전남 광주 피부과': 1, '광주 피부과 전문의': 1, '광주 상무지구 피부과': 1, '광주 미라클피부과': 1, '광주광역시 피부과': 1, '광주 성형외과': 1, '경기광주 피부과': 1, '피부과 잘하는곳': 7, '서울 피부과 잘하는곳': 1, '의정부 피부과 잘하는곳': 1, '쁘띠성형 잘하는곳': 1, '필러 잘하는곳': 1, '강남 성형외과 유명한곳': 1, '눈썹문신 잘하는곳': 1, '피부과 레이저시술비용': 1, '울산 피부과': 15, '울산 피부과 잘하는곳': 1, '울산 남구 피부과': 1, '울산 라엘라 피부과': 1, '울산 구영리 피부과': 1, '울산 화이트듀피부과': 1, '울산 제스필': 1, '울산대학병원': 1, '울산 북구 피부과': 1, '울산 피부과 라엘라의원': 1, '울산 채영수피부과': 1, '울산 삼산 피부과': 1, '울산 서울피부과': 1, '울산 헤나 염색': 1, '피부과 탈모치료 비용': 1, '울산 피부과 전문의': 1, '춘천 피부과': 15, '춘천 퇴계동 피부과': 1, '춘천 피부과 잘하는곳': 1, '춘천 석사동 피부과': 1, '춘천 주피부과': 1, '춘천 점빼는 곳': 1, '춘천 피부과 추천': 1, '춘천 파티마피부과': 1, '춘천 아름다운피부과': 1, '춘천 연세주피부과': 1, '춘천 피부사랑피부과': 1, '춘천 포인트피부과': 1, '춘천 성형외과': 1, '춘천 주니스의원': 1, '춘천 청담엠클리닉': 1, '춘천 피부과 의원': 1, '여의도 피부과': 15, '여의도 화안피부과': 1, '여의도 피부과 추천': 1, '여의도역 근처 피부과': 1, '여의도 용피부과': 1, '영등포 피부과': 1, '여의도 차앤박 피부과': 1, '여의도동 피부과': 1, '나의 미래 피부과': 1, '여의도 로하스 피부과': 1, '국회의사당역 피부과': 1, '화안 피부과': 1, '천안 피부과': 1, '마포 피부과': 1, '평택 피부과': 1, '목동 피부과': 1, '구로동 피부과': 5, '구로 슈퍼스타 피부과': 1, '구로디지털단지 피부과': 1, '구로디지털 피부과': 1, '구로 고대병원': 1, '구로구 구로동 피부과': 1, '피부가려움증의 원인': 15, '긁으면 피부가올라오는 현상': 1, '간이 안좋으면 나타나는 증상': 1, '갱년기 피부 가려움증': 1, '피부 가려움증 민간요법': 1, '저녁에 피부가려움증의 원인': 1, '얼굴 피부가려움증의 원인': 1, '피부 붉은반점': 1, '피부 가려움증 두드러기': 1, '피부암 증상사진': 1, '피부 가려움증 치료': 1, '피부암 초기증상': 1, '피부질환 종류': 1, '아토피 가려움증 해소방법': 1, '피부 묘기증': 1, '피부 발진 종류': 1})"
      ]
     },
     "execution_count": 148,
     "metadata": {},
     "output_type": "execute_result"
    }
   ],
   "source": [
    "G.degree()"
   ]
  },
  {
   "cell_type": "code",
   "execution_count": 150,
   "metadata": {},
   "outputs": [
    {
     "data": {
      "image/png": "[encoded data removed]",
      "text/plain": [
       "<Figure size 432x288 with 1 Axes>"
      ]
     },
     "metadata": {},
     "output_type": "display_data"
    }
   ],
   "source": [
    "nx.draw(G,with_labels=True)"
   ]
  },
  {
   "cell_type": "code",
   "execution_count": 153,
   "metadata": {},
   "outputs": [
    {
     "data": {
      "image/png": "[encoded data removed]",
      "text/plain": [
       "<Figure size 432x288 with 1 Axes>"
      ]
     },
     "metadata": {},
     "output_type": "display_data"
    }
   ],
   "source": [
    "G = nx.Graph()\n",
    "e = edges[0:15]\n",
    "G.add_edges_from(e)\n",
    "G.edges()\n",
    "nx.draw(G,with_labels=True)  # 한글 깨짐..."
   ]
  },
  {
   "cell_type": "code",
   "execution_count": null,
   "metadata": {},
   "outputs": [],
   "source": []
  }
 ],
 "metadata": {
  "kernelspec": {
   "display_name": "Python 3",
   "language": "python",
   "name": "python3"
  },
  "language_info": {
   "codemirror_mode": {
    "name": "ipython",
    "version": 3
   },
   "file_extension": ".py",
   "mimetype": "text/x-python",
   "name": "python",
   "nbconvert_exporter": "python",
   "pygments_lexer": "ipython3",
   "version": "3.7.1"
  }
 },
 "nbformat": 4,
 "nbformat_minor": 2
}
